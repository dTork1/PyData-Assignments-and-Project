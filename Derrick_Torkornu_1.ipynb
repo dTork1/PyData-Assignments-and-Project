import cloudscraper
import requests as rq
from bs4 import BeautifulSoup as bs
import pandas as pd

rq = cloudscraper.create_scraper()
url = "https://www.jumia.com.gh/phones-tables/"
res = rq.get(url)
laptops = bs(res.content)
print(laptops)
