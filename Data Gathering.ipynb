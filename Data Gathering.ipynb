{
 "cells": [
  {
   "cell_type": "code",
   "execution_count": 1,
   "id": "11ea74bc",
   "metadata": {},
   "outputs": [],
   "source": [
    "from selenium import webdriver\n",
    "from selenium.webdriver.common.by import By\n",
    "path = \"D:/Pydata Project W/chromedriver.exe\""
   ]
  },
  {
   "cell_type": "code",
   "execution_count": 2,
   "id": "28f13890",
   "metadata": {},
   "outputs": [],
   "source": [
    "dml_url = \"https://www.yarnplaza.com/product/4216/dmc-natura-xl.html\""
   ]
  },
  {
   "cell_type": "code",
   "execution_count": 3,
   "id": "53dda5bd",
   "metadata": {},
   "outputs": [
    {
     "name": "stderr",
     "output_type": "stream",
     "text": [
      "C:\\Users\\USER\\AppData\\Local\\Temp/ipykernel_16084/2107036205.py:1: DeprecationWarning: executable_path has been deprecated, please pass in a Service object\n",
      "  driver = webdriver.Chrome(path)\n"
     ]
    }
   ],
   "source": [
    "driver = webdriver.Chrome(path)"
   ]
  },
  {
   "cell_type": "code",
   "execution_count": 4,
   "id": "de6777dd",
   "metadata": {},
   "outputs": [],
   "source": [
    "driver.implicitly_wait(10)"
   ]
  },
  {
   "cell_type": "code",
   "execution_count": 5,
   "id": "5264c46e",
   "metadata": {},
   "outputs": [],
   "source": [
    "driver.get(dml_url)"
   ]
  },
  {
   "cell_type": "code",
   "execution_count": 9,
   "id": "4b570181",
   "metadata": {},
   "outputs": [],
   "source": [
    "specifications = [specs.text for specs in driver.find_elements(By.XPATH,'//div[@id=\"pdetailTableSpecs\"]')]"
   ]
  },
  {
   "cell_type": "code",
   "execution_count": 10,
   "id": "0ebace24",
   "metadata": {},
   "outputs": [
    {
     "name": "stdout",
     "output_type": "stream",
     "text": [
      "['Weight 100 gram\\nSustainable Fairtrade\\nLength 75 meter\\nComposition 100% Cotton\\nNeedle size 8 mm\\nYarn Weight Bulky\\nTension square 10x10cm (S) 12 stitches\\nTension square 10x10cm (R) 17 rows\\nSweater size 40\\nBalls per sweater 7\\nWashing Machine washable 30 ºC\\nBleaching No\\nTumble dryer Do not tumble dry\\nDry flat Yes\\nIroning Do not iron\\nDry cleaning Yes\\nBrand DMC\\nCategory DMC\\nEAN Code 0077540622641\\nProduct code bwdmc011322_2\\nUnit Per piece']\n"
     ]
    }
   ],
   "source": [
    "print(specifications)"
   ]
  },
  {
   "cell_type": "code",
   "execution_count": 11,
   "id": "027e2bc4",
   "metadata": {},
   "outputs": [],
   "source": [
    "n = specifications[0].split(\"\\n\")"
   ]
  },
  {
   "cell_type": "code",
   "execution_count": 12,
   "id": "38fda470",
   "metadata": {},
   "outputs": [
    {
     "data": {
      "text/plain": [
       "['Weight 100 gram',\n",
       " 'Sustainable Fairtrade',\n",
       " 'Length 75 meter',\n",
       " 'Composition 100% Cotton',\n",
       " 'Needle size 8 mm',\n",
       " 'Yarn Weight Bulky',\n",
       " 'Tension square 10x10cm (S) 12 stitches',\n",
       " 'Tension square 10x10cm (R) 17 rows',\n",
       " 'Sweater size 40',\n",
       " 'Balls per sweater 7',\n",
       " 'Washing Machine washable 30 ºC',\n",
       " 'Bleaching No',\n",
       " 'Tumble dryer Do not tumble dry',\n",
       " 'Dry flat Yes',\n",
       " 'Ironing Do not iron',\n",
       " 'Dry cleaning Yes',\n",
       " 'Brand DMC',\n",
       " 'Category DMC',\n",
       " 'EAN Code 0077540622641',\n",
       " 'Product code bwdmc011322_2',\n",
       " 'Unit Per piece']"
      ]
     },
     "execution_count": 12,
     "metadata": {},
     "output_type": "execute_result"
    }
   ],
   "source": [
    "n"
   ]
  },
  {
   "cell_type": "code",
   "execution_count": 13,
   "id": "7302905e",
   "metadata": {},
   "outputs": [],
   "source": [
    "needle_size = n[4][12:]"
   ]
  },
  {
   "cell_type": "code",
   "execution_count": 20,
   "id": "494ef1f5",
   "metadata": {},
   "outputs": [
    {
     "data": {
      "text/plain": [
       "'8 mm'"
      ]
     },
     "execution_count": 20,
     "metadata": {},
     "output_type": "execute_result"
    }
   ],
   "source": [
    "needle_size"
   ]
  },
  {
   "cell_type": "code",
   "execution_count": 21,
   "id": "2a6191bf",
   "metadata": {},
   "outputs": [],
   "source": [
    "composition = n[3][12:]"
   ]
  },
  {
   "cell_type": "code",
   "execution_count": 22,
   "id": "293a8a96",
   "metadata": {},
   "outputs": [
    {
     "data": {
      "text/plain": [
       "'100% Cotton'"
      ]
     },
     "execution_count": 22,
     "metadata": {},
     "output_type": "execute_result"
    }
   ],
   "source": [
    "composition"
   ]
  },
  {
   "cell_type": "code",
   "execution_count": 15,
   "id": "38dddb49",
   "metadata": {},
   "outputs": [],
   "source": [
    "prices = [prices.text for prices in driver.find_elements(By.XPATH,'//span[@class=\"product-price-amount\"]')]"
   ]
  },
  {
   "cell_type": "code",
   "execution_count": 16,
   "id": "6823302b",
   "metadata": {},
   "outputs": [
    {
     "data": {
      "text/plain": [
       "['8,53',\n",
       " '0,00',\n",
       " '4,71',\n",
       " '8,18',\n",
       " '7,36',\n",
       " '34,61',\n",
       " '',\n",
       " '',\n",
       " '',\n",
       " '',\n",
       " '9,91',\n",
       " '8,72',\n",
       " '5,70',\n",
       " '',\n",
       " '',\n",
       " '']"
      ]
     },
     "execution_count": 16,
     "metadata": {},
     "output_type": "execute_result"
    }
   ],
   "source": [
    "prices"
   ]
  },
  {
   "cell_type": "code",
   "execution_count": 62,
   "id": "25165c2a",
   "metadata": {},
   "outputs": [],
   "source": [
    "p_of_DMC_brand = prices[0]"
   ]
  },
  {
   "cell_type": "code",
   "execution_count": 63,
   "id": "ce48ca20",
   "metadata": {},
   "outputs": [
    {
     "data": {
      "text/plain": [
       "'8,53'"
      ]
     },
     "execution_count": 63,
     "metadata": {},
     "output_type": "execute_result"
    }
   ],
   "source": [
    "p_of_DMC_brand"
   ]
  },
  {
   "cell_type": "code",
   "execution_count": 65,
   "id": "e7dc7bb1",
   "metadata": {},
   "outputs": [],
   "source": [
    "p_of_DMC_brand = p_of_DMC_brand.replace(\",\", \".\");\n",
    "price_of_DMC_brand = float(p_of_DMC_brand)"
   ]
  },
  {
   "cell_type": "code",
   "execution_count": 132,
   "id": "cce49c6c",
   "metadata": {},
   "outputs": [
    {
     "data": {
      "text/plain": [
       "9"
      ]
     },
     "execution_count": 132,
     "metadata": {},
     "output_type": "execute_result"
    }
   ],
   "source": [
    "round(price_of_DMC_brand)"
   ]
  },
  {
   "cell_type": "code",
   "execution_count": 61,
   "id": "9622678a",
   "metadata": {},
   "outputs": [
    {
     "data": {
      "text/plain": [
       "8.53"
      ]
     },
     "execution_count": 61,
     "metadata": {},
     "output_type": "execute_result"
    }
   ],
   "source": [
    "myFloat"
   ]
  },
  {
   "cell_type": "code",
   "execution_count": 42,
   "id": "16c2e74b",
   "metadata": {},
   "outputs": [
    {
     "data": {
      "text/plain": [
       "'853.000'"
      ]
     },
     "execution_count": 42,
     "metadata": {},
     "output_type": "execute_result"
    }
   ],
   "source": [
    "s"
   ]
  },
  {
   "cell_type": "code",
   "execution_count": 44,
   "id": "0ea622bf",
   "metadata": {},
   "outputs": [
    {
     "data": {
      "text/plain": [
       "'8,53'"
      ]
     },
     "execution_count": 44,
     "metadata": {},
     "output_type": "execute_result"
    }
   ],
   "source": [
    "price_of_DMC1"
   ]
  },
  {
   "cell_type": "code",
   "execution_count": 46,
   "id": "9279a842",
   "metadata": {},
   "outputs": [],
   "source": [
    "n = price_of_DMC1.replace(',','')"
   ]
  },
  {
   "cell_type": "code",
   "execution_count": 53,
   "id": "8aedffef",
   "metadata": {},
   "outputs": [],
   "source": [
    "n1 = float(n)"
   ]
  },
  {
   "cell_type": "code",
   "execution_count": 54,
   "id": "40dfd93d",
   "metadata": {},
   "outputs": [
    {
     "data": {
      "text/plain": [
       "853.0"
      ]
     },
     "execution_count": 54,
     "metadata": {},
     "output_type": "execute_result"
    }
   ],
   "source": [
    "n1"
   ]
  },
  {
   "cell_type": "code",
   "execution_count": 50,
   "id": "e3f4bf9c",
   "metadata": {},
   "outputs": [],
   "source": [
    "s = '{0:.2f}'.format(n1) "
   ]
  },
  {
   "cell_type": "code",
   "execution_count": 51,
   "id": "8c1f49df",
   "metadata": {},
   "outputs": [
    {
     "data": {
      "text/plain": [
       "'853.00'"
      ]
     },
     "execution_count": 51,
     "metadata": {},
     "output_type": "execute_result"
    }
   ],
   "source": [
    "s"
   ]
  },
  {
   "cell_type": "code",
   "execution_count": null,
   "id": "32108356",
   "metadata": {},
   "outputs": [],
   "source": []
  },
  {
   "cell_type": "code",
   "execution_count": null,
   "id": "3285cf13",
   "metadata": {},
   "outputs": [],
   "source": []
  },
  {
   "cell_type": "code",
   "execution_count": 76,
   "id": "85697bf0",
   "metadata": {},
   "outputs": [],
   "source": [
    "drops_url = \"https://www.yarnplaza.com/yarn/drops/drops-safran\""
   ]
  },
  {
   "cell_type": "code",
   "execution_count": 77,
   "id": "0ac4a80f",
   "metadata": {},
   "outputs": [
    {
     "name": "stderr",
     "output_type": "stream",
     "text": [
      "C:\\Users\\USER\\AppData\\Local\\Temp/ipykernel_16084/2107036205.py:1: DeprecationWarning: executable_path has been deprecated, please pass in a Service object\n",
      "  driver = webdriver.Chrome(path)\n"
     ]
    }
   ],
   "source": [
    "driver = webdriver.Chrome(path)"
   ]
  },
  {
   "cell_type": "code",
   "execution_count": 78,
   "id": "764e82eb",
   "metadata": {},
   "outputs": [],
   "source": [
    "driver.implicitly_wait(10)"
   ]
  },
  {
   "cell_type": "code",
   "execution_count": 79,
   "id": "da245568",
   "metadata": {},
   "outputs": [],
   "source": [
    "driver.get(drops_url)"
   ]
  },
  {
   "cell_type": "code",
   "execution_count": 80,
   "id": "65ad127c",
   "metadata": {},
   "outputs": [],
   "source": [
    "drops_specifications = [specs.text for specs in driver.find_elements(By.XPATH,'//div[@id=\"pdetailTableSpecs\"]')]"
   ]
  },
  {
   "cell_type": "code",
   "execution_count": 81,
   "id": "cdd196cd",
   "metadata": {},
   "outputs": [
    {
     "name": "stdout",
     "output_type": "stream",
     "text": [
      "['Weight 50 gram\\nSustainable Certification\\nNatural\\nLength 160 meter\\nComposition 100% Cotton\\nNeedle size 3 mm\\nYarn Weight Sport\\nTension square 10x10cm (S) 24 stitches\\nTension square 10x10cm (R) 32 rows\\nWashing Machine washable 40 ºC\\nBleaching No\\nTumble dryer Do not tumble dry\\nDry flat Yes\\nIroning Iron at medium temperature\\nDry cleaning Yes\\nBrand Drops\\nCategory Drops\\nEAN Code 7071723000007\\nProduct code bwdr1042_1\\nUnit Per piece']\n"
     ]
    }
   ],
   "source": [
    "print(drops_specifications)"
   ]
  },
  {
   "cell_type": "code",
   "execution_count": 87,
   "id": "a2c347a5",
   "metadata": {},
   "outputs": [],
   "source": [
    "dropsspec = drops_specifications[0].split(\"\\n\")"
   ]
  },
  {
   "cell_type": "code",
   "execution_count": 88,
   "id": "62d7451f",
   "metadata": {},
   "outputs": [
    {
     "data": {
      "text/plain": [
       "['Weight 50 gram',\n",
       " 'Sustainable Certification',\n",
       " 'Natural',\n",
       " 'Length 160 meter',\n",
       " 'Composition 100% Cotton',\n",
       " 'Needle size 3 mm',\n",
       " 'Yarn Weight Sport',\n",
       " 'Tension square 10x10cm (S) 24 stitches',\n",
       " 'Tension square 10x10cm (R) 32 rows',\n",
       " 'Washing Machine washable 40 ºC',\n",
       " 'Bleaching No',\n",
       " 'Tumble dryer Do not tumble dry',\n",
       " 'Dry flat Yes',\n",
       " 'Ironing Iron at medium temperature',\n",
       " 'Dry cleaning Yes',\n",
       " 'Brand Drops',\n",
       " 'Category Drops',\n",
       " 'EAN Code 7071723000007',\n",
       " 'Product code bwdr1042_1',\n",
       " 'Unit Per piece']"
      ]
     },
     "execution_count": 88,
     "metadata": {},
     "output_type": "execute_result"
    }
   ],
   "source": [
    "dropsspec"
   ]
  },
  {
   "cell_type": "code",
   "execution_count": 91,
   "id": "ade515c0",
   "metadata": {},
   "outputs": [],
   "source": [
    "drops_size = dropsspec[5][12:]"
   ]
  },
  {
   "cell_type": "code",
   "execution_count": 92,
   "id": "09e09da8",
   "metadata": {},
   "outputs": [
    {
     "data": {
      "text/plain": [
       "'3 mm'"
      ]
     },
     "execution_count": 92,
     "metadata": {},
     "output_type": "execute_result"
    }
   ],
   "source": [
    "drops_size"
   ]
  },
  {
   "cell_type": "code",
   "execution_count": 116,
   "id": "ec97a253",
   "metadata": {},
   "outputs": [],
   "source": [
    "drops_composition = dropsspec[4][12:]"
   ]
  },
  {
   "cell_type": "code",
   "execution_count": 117,
   "id": "b8c48acd",
   "metadata": {},
   "outputs": [
    {
     "data": {
      "text/plain": [
       "'100% Cotton'"
      ]
     },
     "execution_count": 117,
     "metadata": {},
     "output_type": "execute_result"
    }
   ],
   "source": [
    "drops_composition"
   ]
  },
  {
   "cell_type": "code",
   "execution_count": 97,
   "id": "93cbc5d6",
   "metadata": {},
   "outputs": [
    {
     "data": {
      "text/plain": [
       "'100% Cotton'"
      ]
     },
     "execution_count": 97,
     "metadata": {},
     "output_type": "execute_result"
    }
   ],
   "source": [
    "composition"
   ]
  },
  {
   "cell_type": "code",
   "execution_count": 98,
   "id": "ce7bbbda",
   "metadata": {},
   "outputs": [],
   "source": [
    "drops_prices = [prices.text for prices in driver.find_elements(By.XPATH,'//span[@class=\"product-price-amount\"]')]"
   ]
  },
  {
   "cell_type": "code",
   "execution_count": 99,
   "id": "50489277",
   "metadata": {},
   "outputs": [],
   "source": [
    "price_of_drops_brand = drops_prices[0]"
   ]
  },
  {
   "cell_type": "code",
   "execution_count": 100,
   "id": "fd37648f",
   "metadata": {},
   "outputs": [
    {
     "data": {
      "text/plain": [
       "'1,03'"
      ]
     },
     "execution_count": 100,
     "metadata": {},
     "output_type": "execute_result"
    }
   ],
   "source": [
    "price_of_drops_brand"
   ]
  },
  {
   "cell_type": "code",
   "execution_count": 101,
   "id": "9b47b75f",
   "metadata": {},
   "outputs": [],
   "source": [
    "price_of_drops_brand = price_of_drops_brand.replace(\",\", \".\");\n",
    "price_of_drops_brand = float(price_of_drops_brand)"
   ]
  },
  {
   "cell_type": "code",
   "execution_count": 131,
   "id": "92e13573",
   "metadata": {},
   "outputs": [
    {
     "data": {
      "text/plain": [
       "1"
      ]
     },
     "execution_count": 131,
     "metadata": {},
     "output_type": "execute_result"
    }
   ],
   "source": [
    "round(price_of_drops_brand)"
   ]
  },
  {
   "cell_type": "code",
   "execution_count": null,
   "id": "2557e261",
   "metadata": {},
   "outputs": [],
   "source": []
  },
  {
   "cell_type": "code",
   "execution_count": null,
   "id": "240fb0c1",
   "metadata": {},
   "outputs": [],
   "source": []
  },
  {
   "cell_type": "code",
   "execution_count": 103,
   "id": "d388b0bc",
   "metadata": {},
   "outputs": [],
   "source": [
    "style_url= \"https://www.yarnplaza.com/yarn/stylecraft/stylecraft-special-dk\""
   ]
  },
  {
   "cell_type": "code",
   "execution_count": 104,
   "id": "d5712965",
   "metadata": {},
   "outputs": [
    {
     "name": "stderr",
     "output_type": "stream",
     "text": [
      "C:\\Users\\USER\\AppData\\Local\\Temp/ipykernel_16084/2107036205.py:1: DeprecationWarning: executable_path has been deprecated, please pass in a Service object\n",
      "  driver = webdriver.Chrome(path)\n"
     ]
    }
   ],
   "source": [
    "driver = webdriver.Chrome(path)"
   ]
  },
  {
   "cell_type": "code",
   "execution_count": 105,
   "id": "8814040a",
   "metadata": {},
   "outputs": [],
   "source": [
    "driver.implicitly_wait(10)"
   ]
  },
  {
   "cell_type": "code",
   "execution_count": 107,
   "id": "a489cb6f",
   "metadata": {},
   "outputs": [],
   "source": [
    "driver.get(style_url)"
   ]
  },
  {
   "cell_type": "code",
   "execution_count": 108,
   "id": "fc4998af",
   "metadata": {},
   "outputs": [],
   "source": [
    "style_specifications = [specs.text for specs in driver.find_elements(By.XPATH,'//div[@id=\"pdetailTableSpecs\"]')]"
   ]
  },
  {
   "cell_type": "code",
   "execution_count": 109,
   "id": "12fec7a0",
   "metadata": {},
   "outputs": [
    {
     "data": {
      "text/plain": [
       "['Weight 100 gram\\nLength 295 meter\\nComposition 100% Acrylic\\nNeedle size 4 mm\\nYarn Weight DK\\nTension square 10x10cm (S) 22 stitches\\nTension square 10x10cm (R) 30 rows\\nSweater size 40\\nBalls per sweater 6\\nWashing Machine washable 40 ºC\\nBleaching No\\nTumble dryer Tumble dry at low temperature\\nDry flat Yes\\nIroning Iron at low temperature\\nDry cleaning Yes\\nBrand Stylecraft\\nCategory Stylecraft\\nEAN Code 5034533027017\\nProduct code bwstspecialdk_1\\nUnit Per piece']"
      ]
     },
     "execution_count": 109,
     "metadata": {},
     "output_type": "execute_result"
    }
   ],
   "source": [
    "style_specifications"
   ]
  },
  {
   "cell_type": "code",
   "execution_count": 110,
   "id": "2e39fd66",
   "metadata": {},
   "outputs": [],
   "source": [
    "style_spec = style_specifications[0].split(\"\\n\")"
   ]
  },
  {
   "cell_type": "code",
   "execution_count": 111,
   "id": "0efa9081",
   "metadata": {},
   "outputs": [
    {
     "data": {
      "text/plain": [
       "['Weight 100 gram',\n",
       " 'Length 295 meter',\n",
       " 'Composition 100% Acrylic',\n",
       " 'Needle size 4 mm',\n",
       " 'Yarn Weight DK',\n",
       " 'Tension square 10x10cm (S) 22 stitches',\n",
       " 'Tension square 10x10cm (R) 30 rows',\n",
       " 'Sweater size 40',\n",
       " 'Balls per sweater 6',\n",
       " 'Washing Machine washable 40 ºC',\n",
       " 'Bleaching No',\n",
       " 'Tumble dryer Tumble dry at low temperature',\n",
       " 'Dry flat Yes',\n",
       " 'Ironing Iron at low temperature',\n",
       " 'Dry cleaning Yes',\n",
       " 'Brand Stylecraft',\n",
       " 'Category Stylecraft',\n",
       " 'EAN Code 5034533027017',\n",
       " 'Product code bwstspecialdk_1',\n",
       " 'Unit Per piece']"
      ]
     },
     "execution_count": 111,
     "metadata": {},
     "output_type": "execute_result"
    }
   ],
   "source": [
    "style_spec"
   ]
  },
  {
   "cell_type": "code",
   "execution_count": 114,
   "id": "0a661cf3",
   "metadata": {},
   "outputs": [],
   "source": [
    "style_size = style_spec[3][12:]"
   ]
  },
  {
   "cell_type": "code",
   "execution_count": 115,
   "id": "323ab899",
   "metadata": {},
   "outputs": [
    {
     "data": {
      "text/plain": [
       "'4 mm'"
      ]
     },
     "execution_count": 115,
     "metadata": {},
     "output_type": "execute_result"
    }
   ],
   "source": [
    "style_size"
   ]
  },
  {
   "cell_type": "code",
   "execution_count": 120,
   "id": "883db24f",
   "metadata": {},
   "outputs": [],
   "source": [
    "style_composition = style_spec[2][12:]"
   ]
  },
  {
   "cell_type": "code",
   "execution_count": 121,
   "id": "aebfd021",
   "metadata": {},
   "outputs": [
    {
     "data": {
      "text/plain": [
       "'100% Acrylic'"
      ]
     },
     "execution_count": 121,
     "metadata": {},
     "output_type": "execute_result"
    }
   ],
   "source": [
    "style_composition"
   ]
  },
  {
   "cell_type": "code",
   "execution_count": 122,
   "id": "bc588067",
   "metadata": {},
   "outputs": [],
   "source": [
    "style_prices = [prices.text for prices in driver.find_elements(By.XPATH,'//span[@class=\"product-price-amount\"]')]"
   ]
  },
  {
   "cell_type": "code",
   "execution_count": 125,
   "id": "56d56063",
   "metadata": {},
   "outputs": [],
   "source": [
    "price_of_style_brand = style_prices[1]"
   ]
  },
  {
   "cell_type": "code",
   "execution_count": 126,
   "id": "8e49b6a1",
   "metadata": {},
   "outputs": [
    {
     "data": {
      "text/plain": [
       "'2,48'"
      ]
     },
     "execution_count": 126,
     "metadata": {},
     "output_type": "execute_result"
    }
   ],
   "source": [
    "price_of_style_brand"
   ]
  },
  {
   "cell_type": "code",
   "execution_count": 128,
   "id": "980de40d",
   "metadata": {},
   "outputs": [],
   "source": [
    "price_of_style_brand = price_of_style_brand.replace(\",\", \".\");\n",
    "price_of_style_brand = float(price_of_style_brand)"
   ]
  },
  {
   "cell_type": "code",
   "execution_count": 130,
   "id": "a9ea19c5",
   "metadata": {},
   "outputs": [
    {
     "data": {
      "text/plain": [
       "2"
      ]
     },
     "execution_count": 130,
     "metadata": {},
     "output_type": "execute_result"
    }
   ],
   "source": [
    "round(price_of_style_brand)"
   ]
  },
  {
   "cell_type": "code",
   "execution_count": null,
   "id": "070d6289",
   "metadata": {},
   "outputs": [],
   "source": []
  },
  {
   "cell_type": "code",
   "execution_count": 139,
   "id": "fea9394b",
   "metadata": {},
   "outputs": [],
   "source": [
    "data = {'Price':[price_of_DMC_brand, price_of_drops_brand, price_of_style_brand], 'delivery time':['Not Available', 'Not Available', 'Not Available'], 'Needle size':[needle_size, drops_size, style_size],'Composition':[composition, drops_composition , style_composition]} "
   ]
  },
  {
   "cell_type": "code",
   "execution_count": 137,
   "id": "ba7b5332",
   "metadata": {},
   "outputs": [],
   "source": [
    "import pandas as pd"
   ]
  },
  {
   "cell_type": "code",
   "execution_count": 140,
   "id": "0c113139",
   "metadata": {},
   "outputs": [],
   "source": [
    "df = pd.DataFrame(data, index =['DMC Natura XL', 'Drops Safran', 'Stylecraft Special dk'])  "
   ]
  },
  {
   "cell_type": "code",
   "execution_count": 141,
   "id": "589abbf5",
   "metadata": {},
   "outputs": [
    {
     "data": {
      "text/html": [
       "<div>\n",
       "<style scoped>\n",
       "    .dataframe tbody tr th:only-of-type {\n",
       "        vertical-align: middle;\n",
       "    }\n",
       "\n",
       "    .dataframe tbody tr th {\n",
       "        vertical-align: top;\n",
       "    }\n",
       "\n",
       "    .dataframe thead th {\n",
       "        text-align: right;\n",
       "    }\n",
       "</style>\n",
       "<table border=\"1\" class=\"dataframe\">\n",
       "  <thead>\n",
       "    <tr style=\"text-align: right;\">\n",
       "      <th></th>\n",
       "      <th>Price</th>\n",
       "      <th>delivery time</th>\n",
       "      <th>Needle size</th>\n",
       "      <th>Composition</th>\n",
       "    </tr>\n",
       "  </thead>\n",
       "  <tbody>\n",
       "    <tr>\n",
       "      <th>DMC Natura XL</th>\n",
       "      <td>8.53</td>\n",
       "      <td>Not Available</td>\n",
       "      <td>8 mm</td>\n",
       "      <td>100% Cotton</td>\n",
       "    </tr>\n",
       "    <tr>\n",
       "      <th>Drops Safran</th>\n",
       "      <td>1.03</td>\n",
       "      <td>Not Available</td>\n",
       "      <td>3 mm</td>\n",
       "      <td>100% Cotton</td>\n",
       "    </tr>\n",
       "    <tr>\n",
       "      <th>Stylecraft Special dk</th>\n",
       "      <td>2.48</td>\n",
       "      <td>Not Available</td>\n",
       "      <td>4 mm</td>\n",
       "      <td>100% Acrylic</td>\n",
       "    </tr>\n",
       "  </tbody>\n",
       "</table>\n",
       "</div>"
      ],
      "text/plain": [
       "                       Price  delivery time Needle size   Composition\n",
       "DMC Natura XL           8.53  Not Available        8 mm   100% Cotton\n",
       "Drops Safran            1.03  Not Available        3 mm   100% Cotton\n",
       "Stylecraft Special dk   2.48  Not Available        4 mm  100% Acrylic"
      ]
     },
     "execution_count": 141,
     "metadata": {},
     "output_type": "execute_result"
    }
   ],
   "source": [
    "df"
   ]
  },
  {
   "cell_type": "code",
   "execution_count": null,
   "id": "58bcd2c8",
   "metadata": {},
   "outputs": [],
   "source": []
  }
 ],
 "metadata": {
  "kernelspec": {
   "display_name": "Python 3 (ipykernel)",
   "language": "python",
   "name": "python3"
  },
  "language_info": {
   "codemirror_mode": {
    "name": "ipython",
    "version": 3
   },
   "file_extension": ".py",
   "mimetype": "text/x-python",
   "name": "python",
   "nbconvert_exporter": "python",
   "pygments_lexer": "ipython3",
   "version": "3.9.7"
  }
 },
 "nbformat": 4,
 "nbformat_minor": 5
}
