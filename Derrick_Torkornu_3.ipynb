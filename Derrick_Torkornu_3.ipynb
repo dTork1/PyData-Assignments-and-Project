{
 "cells": [
  {
   "cell_type": "code",
   "execution_count": 155,
   "id": "fb16877e",
   "metadata": {},
   "outputs": [],
   "source": [
    "from selenium import webdriver"
   ]
  },
  {
   "cell_type": "code",
   "execution_count": 156,
   "id": "61f029ba",
   "metadata": {},
   "outputs": [],
   "source": [
    "from selenium.webdriver.common.by import By"
   ]
  },
  {
   "cell_type": "code",
   "execution_count": 157,
   "id": "2b73a858",
   "metadata": {},
   "outputs": [],
   "source": [
    "path = \"D:/Web scrapping/chromedriver.exe\""
   ]
  },
  {
   "cell_type": "code",
   "execution_count": 158,
   "id": "d95500d2",
   "metadata": {},
   "outputs": [],
   "source": [
    "url = \"https://www.jumia.com.gh/laptops/\""
   ]
  },
  {
   "cell_type": "code",
   "execution_count": 159,
   "id": "2b1be785",
   "metadata": {},
   "outputs": [
    {
     "name": "stderr",
     "output_type": "stream",
     "text": [
      "C:\\Users\\USER\\AppData\\Local\\Temp/ipykernel_16808/2107036205.py:1: DeprecationWarning: executable_path has been deprecated, please pass in a Service object\n",
      "  driver = webdriver.Chrome(path)\n"
     ]
    }
   ],
   "source": [
    "driver = webdriver.Chrome(path)"
   ]
  },
  {
   "cell_type": "code",
   "execution_count": 160,
   "id": "03e41b28",
   "metadata": {},
   "outputs": [],
   "source": [
    "driver.implicitly_wait(10)"
   ]
  },
  {
   "cell_type": "code",
   "execution_count": 161,
   "id": "4c1c1dd7",
   "metadata": {},
   "outputs": [],
   "source": [
    "driver.get(url)"
   ]
  },
  {
   "cell_type": "code",
   "execution_count": 162,
   "id": "15325334",
   "metadata": {},
   "outputs": [],
   "source": [
    "laptop_name = [laptop.text for laptop in driver.find_elements(By.XPATH,'//h3[@class=\"name\"]')]"
   ]
  },
  {
   "cell_type": "code",
   "execution_count": 165,
   "id": "70c28deb",
   "metadata": {},
   "outputs": [
    {
     "name": "stdout",
     "output_type": "stream",
     "text": [
      "['', '', '', '', '', '', '', '', '', '', '', '', '', '', '', '', '', '', '', '', '', '', '', '', '', '', '', '', '', '', '', '', '', '', '', '', '', '', '', '', '', '', '', '', '', '', '', '']\n"
     ]
    }
   ],
   "source": [
    "print(laptop_name)"
   ]
  },
  {
   "cell_type": "code",
   "execution_count": 164,
   "id": "1fff2bc9",
   "metadata": {},
   "outputs": [],
   "source": [
    "laptop_prices = [prices.text for prices in driver.find_elements(By.XPATH,'//div[@class=\"info\"]//div[@class=\"prc\"]')]"
   ]
  },
  {
   "cell_type": "code",
   "execution_count": 130,
   "id": "cd491257",
   "metadata": {},
   "outputs": [
    {
     "name": "stdout",
     "output_type": "stream",
     "text": [
      "['GH₵ 8,900.00', 'GH₵ 2,489.00', 'GH₵ 1,656.00', 'GH₵ 1,622.40', 'GH₵ 2,589.00', 'GH₵ 2,165.00', 'GH₵ 4,750.00', 'GH₵ 2,435.00', 'GH₵ 1,889.00', 'GH₵ 3,434.00', 'GH₵ 3,700.00', 'GH₵ 2,294.00', 'GH₵ 855.00', 'GH₵ 9,800.00', 'GH₵ 3,689.00', 'GH₵ 8,900.00', 'GH₵ 499.00', 'GH₵ 5,800.00', 'GH₵ 750.00', 'GH₵ 1,814.40', 'GH₵ 2,950.00', 'GH₵ 4,850.00', 'GH₵ 3,250.00', 'GH₵ 719.00', 'GH₵ 2,490.00', 'GH₵ 2,250.00', 'GH₵ 3,013.00', 'GH₵ 6,990.00', 'GH₵ 9,000.00', 'GH₵ 2,789.00', 'GH₵ 3,799.00', 'GH₵ 4,225.00', 'GH₵ 2,950.00', 'GH₵ 2,750.00', 'GH₵ 129.00', 'GH₵ 779.00', 'GH₵ 3,399.00', 'GH₵ 3,399.00', 'GH₵ 5,780.00', 'GH₵ 2,120.00', 'GH₵ 3,090.00', 'GH₵ 5,800.00', 'GH₵ 6,200.00', 'GH₵ 9,800.00', 'GH₵ 6,300.00', 'GH₵ 17.00', 'GH₵ 1,814.40', 'GH₵ 1,622.40']\n"
     ]
    }
   ],
   "source": [
    "print(job_prices)"
   ]
  },
  {
   "cell_type": "code",
   "execution_count": 131,
   "id": "ab71f205",
   "metadata": {},
   "outputs": [
    {
     "data": {
      "text/plain": [
       "48"
      ]
     },
     "execution_count": 131,
     "metadata": {},
     "output_type": "execute_result"
    }
   ],
   "source": [
    "len(laptop_name)"
   ]
  },
  {
   "cell_type": "code",
   "execution_count": 133,
   "id": "6f43c894",
   "metadata": {},
   "outputs": [
    {
     "data": {
      "text/plain": [
       "48"
      ]
     },
     "execution_count": 133,
     "metadata": {},
     "output_type": "execute_result"
    }
   ],
   "source": [
    "len(laptop_prices)"
   ]
  },
  {
   "cell_type": "code",
   "execution_count": 142,
   "id": "99537d7b",
   "metadata": {},
   "outputs": [
    {
     "ename": "InvalidSelectorException",
     "evalue": "Message: invalid selector: The result of the xpath expression \"//article[@class=\"prd _fb col c-prd\"]/a[1]/@href\" is: [object Attr]. It should be an element.\n  (Session info: chrome=99.0.4844.51)\nStacktrace:\nBacktrace:\n\tOrdinal0 [0x00FA69A3+2582947]\n\tOrdinal0 [0x00F3A6D1+2139857]\n\tOrdinal0 [0x00E33A98+1063576]\n\tOrdinal0 [0x00E362B7+1073847]\n\tOrdinal0 [0x00E3617E+1073534]\n\tOrdinal0 [0x00E363F0+1074160]\n\tOrdinal0 [0x00E5FCB2+1244338]\n\tOrdinal0 [0x00E6013B+1245499]\n\tOrdinal0 [0x00E89F8C+1417100]\n\tOrdinal0 [0x00E78594+1344916]\n\tOrdinal0 [0x00E8834A+1409866]\n\tOrdinal0 [0x00E78366+1344358]\n\tOrdinal0 [0x00E55176+1200502]\n\tOrdinal0 [0x00E56066+1204326]\n\tGetHandleVerifier [0x0114BE02+1675858]\n\tGetHandleVerifier [0x0120036C+2414524]\n\tGetHandleVerifier [0x0103BB01+560977]\n\tGetHandleVerifier [0x0103A8D3+556323]\n\tOrdinal0 [0x00F4020E+2163214]\n\tOrdinal0 [0x00F45078+2183288]\n\tOrdinal0 [0x00F451C0+2183616]\n\tOrdinal0 [0x00F4EE1C+2223644]\n\tBaseThreadInitThunk [0x767FFA29+25]\n\tRtlGetAppContainerNamedObjectPath [0x77AC7A9E+286]\n\tRtlGetAppContainerNamedObjectPath [0x77AC7A6E+238]\n",
     "output_type": "error",
     "traceback": [
      "\u001b[1;31m---------------------------------------------------------------------------\u001b[0m",
      "\u001b[1;31mInvalidSelectorException\u001b[0m                  Traceback (most recent call last)",
      "\u001b[1;32m~\\AppData\\Local\\Temp/ipykernel_16808/4211031667.py\u001b[0m in \u001b[0;36m<module>\u001b[1;34m\u001b[0m\n\u001b[1;32m----> 1\u001b[1;33m \u001b[0mjob_titles\u001b[0m \u001b[1;33m=\u001b[0m \u001b[1;33m[\u001b[0m\u001b[0mjob\u001b[0m\u001b[1;33m.\u001b[0m\u001b[0mtext\u001b[0m \u001b[1;32mfor\u001b[0m \u001b[0mjob\u001b[0m \u001b[1;32min\u001b[0m \u001b[0mdriver\u001b[0m\u001b[1;33m.\u001b[0m\u001b[0mfind_elements\u001b[0m\u001b[1;33m(\u001b[0m\u001b[0mBy\u001b[0m\u001b[1;33m.\u001b[0m\u001b[0mXPATH\u001b[0m\u001b[1;33m,\u001b[0m\u001b[1;34m'//article[@class=\"prd _fb col c-prd\"]/a[1]/@href'\u001b[0m\u001b[1;33m)\u001b[0m\u001b[1;33m]\u001b[0m\u001b[1;33m\u001b[0m\u001b[1;33m\u001b[0m\u001b[0m\n\u001b[0m",
      "\u001b[1;32m~\\anaconda3\\lib\\site-packages\\selenium\\webdriver\\remote\\webdriver.py\u001b[0m in \u001b[0;36mfind_elements\u001b[1;34m(self, by, value)\u001b[0m\n\u001b[0;32m   1277\u001b[0m         \u001b[1;31m# Return empty list if driver returns null\u001b[0m\u001b[1;33m\u001b[0m\u001b[1;33m\u001b[0m\u001b[0m\n\u001b[0;32m   1278\u001b[0m         \u001b[1;31m# See https://github.com/SeleniumHQ/selenium/issues/4555\u001b[0m\u001b[1;33m\u001b[0m\u001b[1;33m\u001b[0m\u001b[0m\n\u001b[1;32m-> 1279\u001b[1;33m         return self.execute(Command.FIND_ELEMENTS, {\n\u001b[0m\u001b[0;32m   1280\u001b[0m             \u001b[1;34m'using'\u001b[0m\u001b[1;33m:\u001b[0m \u001b[0mby\u001b[0m\u001b[1;33m,\u001b[0m\u001b[1;33m\u001b[0m\u001b[1;33m\u001b[0m\u001b[0m\n\u001b[0;32m   1281\u001b[0m             'value': value})['value'] or []\n",
      "\u001b[1;32m~\\anaconda3\\lib\\site-packages\\selenium\\webdriver\\remote\\webdriver.py\u001b[0m in \u001b[0;36mexecute\u001b[1;34m(self, driver_command, params)\u001b[0m\n\u001b[0;32m    422\u001b[0m         \u001b[0mresponse\u001b[0m \u001b[1;33m=\u001b[0m \u001b[0mself\u001b[0m\u001b[1;33m.\u001b[0m\u001b[0mcommand_executor\u001b[0m\u001b[1;33m.\u001b[0m\u001b[0mexecute\u001b[0m\u001b[1;33m(\u001b[0m\u001b[0mdriver_command\u001b[0m\u001b[1;33m,\u001b[0m \u001b[0mparams\u001b[0m\u001b[1;33m)\u001b[0m\u001b[1;33m\u001b[0m\u001b[1;33m\u001b[0m\u001b[0m\n\u001b[0;32m    423\u001b[0m         \u001b[1;32mif\u001b[0m \u001b[0mresponse\u001b[0m\u001b[1;33m:\u001b[0m\u001b[1;33m\u001b[0m\u001b[1;33m\u001b[0m\u001b[0m\n\u001b[1;32m--> 424\u001b[1;33m             \u001b[0mself\u001b[0m\u001b[1;33m.\u001b[0m\u001b[0merror_handler\u001b[0m\u001b[1;33m.\u001b[0m\u001b[0mcheck_response\u001b[0m\u001b[1;33m(\u001b[0m\u001b[0mresponse\u001b[0m\u001b[1;33m)\u001b[0m\u001b[1;33m\u001b[0m\u001b[1;33m\u001b[0m\u001b[0m\n\u001b[0m\u001b[0;32m    425\u001b[0m             response['value'] = self._unwrap_value(\n\u001b[0;32m    426\u001b[0m                 response.get('value', None))\n",
      "\u001b[1;32m~\\anaconda3\\lib\\site-packages\\selenium\\webdriver\\remote\\errorhandler.py\u001b[0m in \u001b[0;36mcheck_response\u001b[1;34m(self, response)\u001b[0m\n\u001b[0;32m    245\u001b[0m                 \u001b[0malert_text\u001b[0m \u001b[1;33m=\u001b[0m \u001b[0mvalue\u001b[0m\u001b[1;33m[\u001b[0m\u001b[1;34m'alert'\u001b[0m\u001b[1;33m]\u001b[0m\u001b[1;33m.\u001b[0m\u001b[0mget\u001b[0m\u001b[1;33m(\u001b[0m\u001b[1;34m'text'\u001b[0m\u001b[1;33m)\u001b[0m\u001b[1;33m\u001b[0m\u001b[1;33m\u001b[0m\u001b[0m\n\u001b[0;32m    246\u001b[0m             \u001b[1;32mraise\u001b[0m \u001b[0mexception_class\u001b[0m\u001b[1;33m(\u001b[0m\u001b[0mmessage\u001b[0m\u001b[1;33m,\u001b[0m \u001b[0mscreen\u001b[0m\u001b[1;33m,\u001b[0m \u001b[0mstacktrace\u001b[0m\u001b[1;33m,\u001b[0m \u001b[0malert_text\u001b[0m\u001b[1;33m)\u001b[0m  \u001b[1;31m# type: ignore[call-arg]  # mypy is not smart enough here\u001b[0m\u001b[1;33m\u001b[0m\u001b[1;33m\u001b[0m\u001b[0m\n\u001b[1;32m--> 247\u001b[1;33m         \u001b[1;32mraise\u001b[0m \u001b[0mexception_class\u001b[0m\u001b[1;33m(\u001b[0m\u001b[0mmessage\u001b[0m\u001b[1;33m,\u001b[0m \u001b[0mscreen\u001b[0m\u001b[1;33m,\u001b[0m \u001b[0mstacktrace\u001b[0m\u001b[1;33m)\u001b[0m\u001b[1;33m\u001b[0m\u001b[1;33m\u001b[0m\u001b[0m\n\u001b[0m\u001b[0;32m    248\u001b[0m \u001b[1;33m\u001b[0m\u001b[0m\n\u001b[0;32m    249\u001b[0m     \u001b[1;32mdef\u001b[0m \u001b[0m_value_or_default\u001b[0m\u001b[1;33m(\u001b[0m\u001b[0mself\u001b[0m\u001b[1;33m,\u001b[0m \u001b[0mobj\u001b[0m\u001b[1;33m:\u001b[0m \u001b[0mMapping\u001b[0m\u001b[1;33m[\u001b[0m\u001b[0m_KT\u001b[0m\u001b[1;33m,\u001b[0m \u001b[0m_VT\u001b[0m\u001b[1;33m]\u001b[0m\u001b[1;33m,\u001b[0m \u001b[0mkey\u001b[0m\u001b[1;33m:\u001b[0m \u001b[0m_KT\u001b[0m\u001b[1;33m,\u001b[0m \u001b[0mdefault\u001b[0m\u001b[1;33m:\u001b[0m \u001b[0m_VT\u001b[0m\u001b[1;33m)\u001b[0m \u001b[1;33m->\u001b[0m \u001b[0m_VT\u001b[0m\u001b[1;33m:\u001b[0m\u001b[1;33m\u001b[0m\u001b[1;33m\u001b[0m\u001b[0m\n",
      "\u001b[1;31mInvalidSelectorException\u001b[0m: Message: invalid selector: The result of the xpath expression \"//article[@class=\"prd _fb col c-prd\"]/a[1]/@href\" is: [object Attr]. It should be an element.\n  (Session info: chrome=99.0.4844.51)\nStacktrace:\nBacktrace:\n\tOrdinal0 [0x00FA69A3+2582947]\n\tOrdinal0 [0x00F3A6D1+2139857]\n\tOrdinal0 [0x00E33A98+1063576]\n\tOrdinal0 [0x00E362B7+1073847]\n\tOrdinal0 [0x00E3617E+1073534]\n\tOrdinal0 [0x00E363F0+1074160]\n\tOrdinal0 [0x00E5FCB2+1244338]\n\tOrdinal0 [0x00E6013B+1245499]\n\tOrdinal0 [0x00E89F8C+1417100]\n\tOrdinal0 [0x00E78594+1344916]\n\tOrdinal0 [0x00E8834A+1409866]\n\tOrdinal0 [0x00E78366+1344358]\n\tOrdinal0 [0x00E55176+1200502]\n\tOrdinal0 [0x00E56066+1204326]\n\tGetHandleVerifier [0x0114BE02+1675858]\n\tGetHandleVerifier [0x0120036C+2414524]\n\tGetHandleVerifier [0x0103BB01+560977]\n\tGetHandleVerifier [0x0103A8D3+556323]\n\tOrdinal0 [0x00F4020E+2163214]\n\tOrdinal0 [0x00F45078+2183288]\n\tOrdinal0 [0x00F451C0+2183616]\n\tOrdinal0 [0x00F4EE1C+2223644]\n\tBaseThreadInitThunk [0x767FFA29+25]\n\tRtlGetAppContainerNamedObjectPath [0x77AC7A9E+286]\n\tRtlGetAppContainerNamedObjectPath [0x77AC7A6E+238]\n"
     ]
    }
   ],
   "source": [
    "job_titles = [job.text for job in driver.find_elements(By.XPATH,'//article[@class=\"prd _fb col c-prd\"]/a[1]/@href')]"
   ]
  },
  {
   "cell_type": "code",
   "execution_count": 141,
   "id": "70f9a22d",
   "metadata": {},
   "outputs": [
    {
     "data": {
      "text/plain": [
       "40"
      ]
     },
     "execution_count": 141,
     "metadata": {},
     "output_type": "execute_result"
    }
   ],
   "source": [
    "len(job_titles)"
   ]
  },
  {
   "cell_type": "code",
   "execution_count": 65,
   "id": "a02abc08",
   "metadata": {},
   "outputs": [],
   "source": [
    "import pandas as pd"
   ]
  },
  {
   "cell_type": "code",
   "execution_count": 137,
   "id": "2c99ea52",
   "metadata": {},
   "outputs": [],
   "source": [
    "df = pd.DataFrame({\"Laptop\":job_titles[:40],\"Price\":job_prices[:40],\"link\":job_titles})"
   ]
  },
  {
   "cell_type": "code",
   "execution_count": 138,
   "id": "f4042dcf",
   "metadata": {},
   "outputs": [
    {
     "data": {
      "text/html": [
       "<div>\n",
       "<style scoped>\n",
       "    .dataframe tbody tr th:only-of-type {\n",
       "        vertical-align: middle;\n",
       "    }\n",
       "\n",
       "    .dataframe tbody tr th {\n",
       "        vertical-align: top;\n",
       "    }\n",
       "\n",
       "    .dataframe thead th {\n",
       "        text-align: right;\n",
       "    }\n",
       "</style>\n",
       "<table border=\"1\" class=\"dataframe\">\n",
       "  <thead>\n",
       "    <tr style=\"text-align: right;\">\n",
       "      <th></th>\n",
       "      <th>Laptop</th>\n",
       "      <th>Price</th>\n",
       "      <th>link</th>\n",
       "    </tr>\n",
       "  </thead>\n",
       "  <tbody>\n",
       "    <tr>\n",
       "      <th>0</th>\n",
       "      <td>Apple 2020 MacBook Pro - 512GB SSD 8GB RAM -13...</td>\n",
       "      <td>GH₵ 8,900.00</td>\n",
       "      <td>Apple 2020 MacBook Pro - 512GB SSD 8GB RAM -13...</td>\n",
       "    </tr>\n",
       "    <tr>\n",
       "      <th>1</th>\n",
       "      <td>Lenovo V14-IGL -14.0″ - Intel N4020 - 4GB DDR4...</td>\n",
       "      <td>GH₵ 2,489.00</td>\n",
       "      <td>Lenovo V14-IGL -14.0″ - Intel N4020 - 4GB DDR4...</td>\n",
       "    </tr>\n",
       "    <tr>\n",
       "      <th>2</th>\n",
       "      <td>Hp Laptop - Intel Celeron Core 2 Duo - 4G RAM ...</td>\n",
       "      <td>GH₵ 1,656.00</td>\n",
       "      <td>Hp Laptop - Intel Celeron Core 2 Duo - 4G RAM ...</td>\n",
       "    </tr>\n",
       "    <tr>\n",
       "      <th>3</th>\n",
       "      <td>Hp Laptop 15.6” - Intel Celeron Core 2 Duo - 4...</td>\n",
       "      <td>GH₵ 1,622.40</td>\n",
       "      <td>Hp Laptop 15.6” - Intel Celeron Core 2 Duo - 4...</td>\n",
       "    </tr>\n",
       "    <tr>\n",
       "      <th>4</th>\n",
       "      <td>Hp 15 Notebook Laptop -15.6'' - Intel® Celeron...</td>\n",
       "      <td>GH₵ 2,589.00</td>\n",
       "      <td>Hp 15 Notebook Laptop -15.6'' - Intel® Celeron...</td>\n",
       "    </tr>\n",
       "    <tr>\n",
       "      <th>5</th>\n",
       "      <td>Hp Laptop 15-dw1213nia -15.6'' - Intel Celeron...</td>\n",
       "      <td>GH₵ 2,165.00</td>\n",
       "      <td>Hp Laptop 15-dw1213nia -15.6'' - Intel Celeron...</td>\n",
       "    </tr>\n",
       "    <tr>\n",
       "      <th>6</th>\n",
       "      <td>Hp Notebook 15-da2937nia - 15.6\" - 10th Gen Co...</td>\n",
       "      <td>GH₵ 4,750.00</td>\n",
       "      <td>Hp Notebook 15-da2937nia - 15.6\" - 10th Gen Co...</td>\n",
       "    </tr>\n",
       "    <tr>\n",
       "      <th>7</th>\n",
       "      <td>Lenovo Ideapad V14-IGL (82C2) - 14\" - Intel Ce...</td>\n",
       "      <td>GH₵ 2,435.00</td>\n",
       "      <td>Lenovo Ideapad V14-IGL (82C2) - 14\" - Intel Ce...</td>\n",
       "    </tr>\n",
       "    <tr>\n",
       "      <th>8</th>\n",
       "      <td>Lenovo IdeaPad 1 11IGL05 11.6\" - 4GB RAM - 128...</td>\n",
       "      <td>GH₵ 1,889.00</td>\n",
       "      <td>Lenovo IdeaPad 1 11IGL05 11.6\" - 4GB RAM - 128...</td>\n",
       "    </tr>\n",
       "    <tr>\n",
       "      <th>9</th>\n",
       "      <td>Hp Notebook 15 15-DY2131WM - Core i3-1115G4- 1...</td>\n",
       "      <td>GH₵ 3,434.00</td>\n",
       "      <td>Hp Notebook 15 15-DY2131WM - Core i3-1115G4- 1...</td>\n",
       "    </tr>\n",
       "    <tr>\n",
       "      <th>10</th>\n",
       "      <td>Lenovo V15 Intel Core i3 - 10th Generation 15....</td>\n",
       "      <td>GH₵ 3,700.00</td>\n",
       "      <td>Lenovo V15 Intel Core i3 - 10th Generation 15....</td>\n",
       "    </tr>\n",
       "    <tr>\n",
       "      <th>11</th>\n",
       "      <td>Lenovo IdeaPad 1 11IGL05 11.6\" - 4GB RAM - 128...</td>\n",
       "      <td>GH₵ 2,294.00</td>\n",
       "      <td>Lenovo IdeaPad 1 11IGL05 11.6\" - 4GB RAM - 128...</td>\n",
       "    </tr>\n",
       "    <tr>\n",
       "      <th>12</th>\n",
       "      <td>Shipped from abroad\\nTDD-10.1 Netbook PC - 10....</td>\n",
       "      <td>GH₵ 855.00</td>\n",
       "      <td>Shipped from abroad\\nTDD-10.1 Netbook PC - 10....</td>\n",
       "    </tr>\n",
       "    <tr>\n",
       "      <th>13</th>\n",
       "      <td>Hp 15T-ED000 x360 -15\" - Core i7-1065G7+512 SS...</td>\n",
       "      <td>GH₵ 9,800.00</td>\n",
       "      <td>Hp 15T-ED000 x360 -15\" - Core i7-1065G7+512 SS...</td>\n",
       "    </tr>\n",
       "    <tr>\n",
       "      <th>14</th>\n",
       "      <td>Hp ProBook 440 G8 - 14\" - Intel Core i7-1165G7...</td>\n",
       "      <td>GH₵ 3,689.00</td>\n",
       "      <td>Hp ProBook 440 G8 - 14\" - Intel Core i7-1165G7...</td>\n",
       "    </tr>\n",
       "    <tr>\n",
       "      <th>15</th>\n",
       "      <td>Shipped from abroad\\n360o Rotating Bluetooth 7...</td>\n",
       "      <td>GH₵ 8,900.00</td>\n",
       "      <td>Shipped from abroad\\n360o Rotating Bluetooth 7...</td>\n",
       "    </tr>\n",
       "    <tr>\n",
       "      <th>16</th>\n",
       "      <td>DELL Vostro 3000 Series - 11th Gen Intel Core ...</td>\n",
       "      <td>GH₵ 499.00</td>\n",
       "      <td>DELL Vostro 3000 Series - 11th Gen Intel Core ...</td>\n",
       "    </tr>\n",
       "    <tr>\n",
       "      <th>17</th>\n",
       "      <td>Hp Pavilion Gaming -Core i5-10300H -1TB DRIVE ...</td>\n",
       "      <td>GH₵ 5,800.00</td>\n",
       "      <td>Hp Pavilion Gaming -Core i5-10300H -1TB DRIVE ...</td>\n",
       "    </tr>\n",
       "    <tr>\n",
       "      <th>18</th>\n",
       "      <td>Shipped from abroad\\n10.1 inch Netbook PC - 1G...</td>\n",
       "      <td>GH₵ 750.00</td>\n",
       "      <td>Shipped from abroad\\n10.1 inch Netbook PC - 1G...</td>\n",
       "    </tr>\n",
       "    <tr>\n",
       "      <th>19</th>\n",
       "      <td>Lenovo Thinkpad X201 - 12\" Intel Core i5 - 4G ...</td>\n",
       "      <td>GH₵ 1,814.40</td>\n",
       "      <td>Lenovo Thinkpad X201 - 12\" Intel Core i5 - 4G ...</td>\n",
       "    </tr>\n",
       "    <tr>\n",
       "      <th>20</th>\n",
       "      <td>Hp 15-da0021ds Intel Pentium Gold 5405U Laptop...</td>\n",
       "      <td>GH₵ 2,950.00</td>\n",
       "      <td>Hp 15-da0021ds Intel Pentium Gold 5405U Laptop...</td>\n",
       "    </tr>\n",
       "    <tr>\n",
       "      <th>21</th>\n",
       "      <td>Hp Pavilion 15-er0125od x360 - Intel Core i5 -...</td>\n",
       "      <td>GH₵ 4,850.00</td>\n",
       "      <td>Hp Pavilion 15-er0125od x360 - Intel Core i5 -...</td>\n",
       "    </tr>\n",
       "    <tr>\n",
       "      <th>22</th>\n",
       "      <td>Hp Laptop 14 - cf2187nia 10th Generation Intel...</td>\n",
       "      <td>GH₵ 3,250.00</td>\n",
       "      <td>Hp Laptop 14 - cf2187nia 10th Generation Intel...</td>\n",
       "    </tr>\n",
       "    <tr>\n",
       "      <th>23</th>\n",
       "      <td>Shipped from abroad\\nN1001 Netbook PC - 10.1\" ...</td>\n",
       "      <td>GH₵ 719.00</td>\n",
       "      <td>Shipped from abroad\\nN1001 Netbook PC - 10.1\" ...</td>\n",
       "    </tr>\n",
       "    <tr>\n",
       "      <th>24</th>\n",
       "      <td>Lenovo V14-IGL - Intel Celeron N4020- 1TB HDD ...</td>\n",
       "      <td>GH₵ 2,490.00</td>\n",
       "      <td>Lenovo V14-IGL - Intel Celeron N4020- 1TB HDD ...</td>\n",
       "    </tr>\n",
       "    <tr>\n",
       "      <th>25</th>\n",
       "      <td>Hp Laptop 14 - cf2187nia 10th Generation Intel...</td>\n",
       "      <td>GH₵ 2,250.00</td>\n",
       "      <td>Hp Laptop 14 - cf2187nia 10th Generation Intel...</td>\n",
       "    </tr>\n",
       "    <tr>\n",
       "      <th>26</th>\n",
       "      <td>Hp Pavilion 15-eg0073cl 15.6″ Touchscreen Lapt...</td>\n",
       "      <td>GH₵ 3,013.00</td>\n",
       "      <td>Hp Pavilion 15-eg0073cl 15.6″ Touchscreen Lapt...</td>\n",
       "    </tr>\n",
       "    <tr>\n",
       "      <th>27</th>\n",
       "      <td>Apple MacBook Pro M1- 256GB-HDD-8GB-RAM-13.3-S...</td>\n",
       "      <td>GH₵ 6,990.00</td>\n",
       "      <td>Apple MacBook Pro M1- 256GB-HDD-8GB-RAM-13.3-S...</td>\n",
       "    </tr>\n",
       "    <tr>\n",
       "      <th>28</th>\n",
       "      <td>Hp 250 G7 - 15.6\" - Intel Celeron N4000 - 1TB ...</td>\n",
       "      <td>GH₵ 9,000.00</td>\n",
       "      <td>Hp 250 G7 - 15.6\" - Intel Celeron N4000 - 1TB ...</td>\n",
       "    </tr>\n",
       "    <tr>\n",
       "      <th>29</th>\n",
       "      <td>Hp 250 G8 Notebook Laptop, Intel Core i5, 1TB ...</td>\n",
       "      <td>GH₵ 2,789.00</td>\n",
       "      <td>Hp 250 G8 Notebook Laptop, Intel Core i5, 1TB ...</td>\n",
       "    </tr>\n",
       "    <tr>\n",
       "      <th>30</th>\n",
       "      <td>Hp 250 G7 - 15.6\" - Intel Core i5 - 1TB HDD - ...</td>\n",
       "      <td>GH₵ 3,799.00</td>\n",
       "      <td>Hp 250 G7 - 15.6\" - Intel Core i5 - 1TB HDD - ...</td>\n",
       "    </tr>\n",
       "    <tr>\n",
       "      <th>31</th>\n",
       "      <td>Lenovo V15 Intel Core i3 - 10th Generation 15....</td>\n",
       "      <td>GH₵ 4,225.00</td>\n",
       "      <td>Lenovo V15 Intel Core i3 - 10th Generation 15....</td>\n",
       "    </tr>\n",
       "    <tr>\n",
       "      <th>32</th>\n",
       "      <td>Hp ProBook 650 G1 - 15.6 Inches - Intel Core i...</td>\n",
       "      <td>GH₵ 2,950.00</td>\n",
       "      <td>Hp ProBook 650 G1 - 15.6 Inches - Intel Core i...</td>\n",
       "    </tr>\n",
       "    <tr>\n",
       "      <th>33</th>\n",
       "      <td>Shipped from abroad\\nFoldable Non-slip Laptop ...</td>\n",
       "      <td>GH₵ 2,750.00</td>\n",
       "      <td>Shipped from abroad\\nFoldable Non-slip Laptop ...</td>\n",
       "    </tr>\n",
       "    <tr>\n",
       "      <th>34</th>\n",
       "      <td>Shipped from abroad\\n10.1 inch Netbook PC -1GB...</td>\n",
       "      <td>GH₵ 129.00</td>\n",
       "      <td>Shipped from abroad\\n10.1 inch Netbook PC -1GB...</td>\n",
       "    </tr>\n",
       "    <tr>\n",
       "      <th>35</th>\n",
       "      <td>Hp 15-DY1091WM Laptop – Core™ i3 1.20GHz – 10t...</td>\n",
       "      <td>GH₵ 779.00</td>\n",
       "      <td>Hp 15-DY1091WM Laptop – Core™ i3 1.20GHz – 10t...</td>\n",
       "    </tr>\n",
       "    <tr>\n",
       "      <th>36</th>\n",
       "      <td>Hp Pavilion 14-DQ1043CL - Intel Core i3-1005G1...</td>\n",
       "      <td>GH₵ 3,399.00</td>\n",
       "      <td>Hp Pavilion 14-DQ1043CL - Intel Core i3-1005G1...</td>\n",
       "    </tr>\n",
       "    <tr>\n",
       "      <th>37</th>\n",
       "      <td>Hp 15.6 Pavilion - i7 8th Gen - Backlit Keyboa...</td>\n",
       "      <td>GH₵ 3,399.00</td>\n",
       "      <td>Hp 15.6 Pavilion - i7 8th Gen - Backlit Keyboa...</td>\n",
       "    </tr>\n",
       "    <tr>\n",
       "      <th>38</th>\n",
       "      <td>Hp 840 G7 Elitebook - 14\"- i5-10310U - 10th Ge...</td>\n",
       "      <td>GH₵ 5,780.00</td>\n",
       "      <td>Hp 840 G7 Elitebook - 14\"- i5-10310U - 10th Ge...</td>\n",
       "    </tr>\n",
       "    <tr>\n",
       "      <th>39</th>\n",
       "      <td>Lenovo Ideapad S145-15IGM (81MX) - Intel Celer...</td>\n",
       "      <td>GH₵ 2,120.00</td>\n",
       "      <td>Lenovo Ideapad S145-15IGM (81MX) - Intel Celer...</td>\n",
       "    </tr>\n",
       "  </tbody>\n",
       "</table>\n",
       "</div>"
      ],
      "text/plain": [
       "                                               Laptop         Price  \\\n",
       "0   Apple 2020 MacBook Pro - 512GB SSD 8GB RAM -13...  GH₵ 8,900.00   \n",
       "1   Lenovo V14-IGL -14.0″ - Intel N4020 - 4GB DDR4...  GH₵ 2,489.00   \n",
       "2   Hp Laptop - Intel Celeron Core 2 Duo - 4G RAM ...  GH₵ 1,656.00   \n",
       "3   Hp Laptop 15.6” - Intel Celeron Core 2 Duo - 4...  GH₵ 1,622.40   \n",
       "4   Hp 15 Notebook Laptop -15.6'' - Intel® Celeron...  GH₵ 2,589.00   \n",
       "5   Hp Laptop 15-dw1213nia -15.6'' - Intel Celeron...  GH₵ 2,165.00   \n",
       "6   Hp Notebook 15-da2937nia - 15.6\" - 10th Gen Co...  GH₵ 4,750.00   \n",
       "7   Lenovo Ideapad V14-IGL (82C2) - 14\" - Intel Ce...  GH₵ 2,435.00   \n",
       "8   Lenovo IdeaPad 1 11IGL05 11.6\" - 4GB RAM - 128...  GH₵ 1,889.00   \n",
       "9   Hp Notebook 15 15-DY2131WM - Core i3-1115G4- 1...  GH₵ 3,434.00   \n",
       "10  Lenovo V15 Intel Core i3 - 10th Generation 15....  GH₵ 3,700.00   \n",
       "11  Lenovo IdeaPad 1 11IGL05 11.6\" - 4GB RAM - 128...  GH₵ 2,294.00   \n",
       "12  Shipped from abroad\\nTDD-10.1 Netbook PC - 10....    GH₵ 855.00   \n",
       "13  Hp 15T-ED000 x360 -15\" - Core i7-1065G7+512 SS...  GH₵ 9,800.00   \n",
       "14  Hp ProBook 440 G8 - 14\" - Intel Core i7-1165G7...  GH₵ 3,689.00   \n",
       "15  Shipped from abroad\\n360o Rotating Bluetooth 7...  GH₵ 8,900.00   \n",
       "16  DELL Vostro 3000 Series - 11th Gen Intel Core ...    GH₵ 499.00   \n",
       "17  Hp Pavilion Gaming -Core i5-10300H -1TB DRIVE ...  GH₵ 5,800.00   \n",
       "18  Shipped from abroad\\n10.1 inch Netbook PC - 1G...    GH₵ 750.00   \n",
       "19  Lenovo Thinkpad X201 - 12\" Intel Core i5 - 4G ...  GH₵ 1,814.40   \n",
       "20  Hp 15-da0021ds Intel Pentium Gold 5405U Laptop...  GH₵ 2,950.00   \n",
       "21  Hp Pavilion 15-er0125od x360 - Intel Core i5 -...  GH₵ 4,850.00   \n",
       "22  Hp Laptop 14 - cf2187nia 10th Generation Intel...  GH₵ 3,250.00   \n",
       "23  Shipped from abroad\\nN1001 Netbook PC - 10.1\" ...    GH₵ 719.00   \n",
       "24  Lenovo V14-IGL - Intel Celeron N4020- 1TB HDD ...  GH₵ 2,490.00   \n",
       "25  Hp Laptop 14 - cf2187nia 10th Generation Intel...  GH₵ 2,250.00   \n",
       "26  Hp Pavilion 15-eg0073cl 15.6″ Touchscreen Lapt...  GH₵ 3,013.00   \n",
       "27  Apple MacBook Pro M1- 256GB-HDD-8GB-RAM-13.3-S...  GH₵ 6,990.00   \n",
       "28  Hp 250 G7 - 15.6\" - Intel Celeron N4000 - 1TB ...  GH₵ 9,000.00   \n",
       "29  Hp 250 G8 Notebook Laptop, Intel Core i5, 1TB ...  GH₵ 2,789.00   \n",
       "30  Hp 250 G7 - 15.6\" - Intel Core i5 - 1TB HDD - ...  GH₵ 3,799.00   \n",
       "31  Lenovo V15 Intel Core i3 - 10th Generation 15....  GH₵ 4,225.00   \n",
       "32  Hp ProBook 650 G1 - 15.6 Inches - Intel Core i...  GH₵ 2,950.00   \n",
       "33  Shipped from abroad\\nFoldable Non-slip Laptop ...  GH₵ 2,750.00   \n",
       "34  Shipped from abroad\\n10.1 inch Netbook PC -1GB...    GH₵ 129.00   \n",
       "35  Hp 15-DY1091WM Laptop – Core™ i3 1.20GHz – 10t...    GH₵ 779.00   \n",
       "36  Hp Pavilion 14-DQ1043CL - Intel Core i3-1005G1...  GH₵ 3,399.00   \n",
       "37  Hp 15.6 Pavilion - i7 8th Gen - Backlit Keyboa...  GH₵ 3,399.00   \n",
       "38  Hp 840 G7 Elitebook - 14\"- i5-10310U - 10th Ge...  GH₵ 5,780.00   \n",
       "39  Lenovo Ideapad S145-15IGM (81MX) - Intel Celer...  GH₵ 2,120.00   \n",
       "\n",
       "                                                 link  \n",
       "0   Apple 2020 MacBook Pro - 512GB SSD 8GB RAM -13...  \n",
       "1   Lenovo V14-IGL -14.0″ - Intel N4020 - 4GB DDR4...  \n",
       "2   Hp Laptop - Intel Celeron Core 2 Duo - 4G RAM ...  \n",
       "3   Hp Laptop 15.6” - Intel Celeron Core 2 Duo - 4...  \n",
       "4   Hp 15 Notebook Laptop -15.6'' - Intel® Celeron...  \n",
       "5   Hp Laptop 15-dw1213nia -15.6'' - Intel Celeron...  \n",
       "6   Hp Notebook 15-da2937nia - 15.6\" - 10th Gen Co...  \n",
       "7   Lenovo Ideapad V14-IGL (82C2) - 14\" - Intel Ce...  \n",
       "8   Lenovo IdeaPad 1 11IGL05 11.6\" - 4GB RAM - 128...  \n",
       "9   Hp Notebook 15 15-DY2131WM - Core i3-1115G4- 1...  \n",
       "10  Lenovo V15 Intel Core i3 - 10th Generation 15....  \n",
       "11  Lenovo IdeaPad 1 11IGL05 11.6\" - 4GB RAM - 128...  \n",
       "12  Shipped from abroad\\nTDD-10.1 Netbook PC - 10....  \n",
       "13  Hp 15T-ED000 x360 -15\" - Core i7-1065G7+512 SS...  \n",
       "14  Hp ProBook 440 G8 - 14\" - Intel Core i7-1165G7...  \n",
       "15  Shipped from abroad\\n360o Rotating Bluetooth 7...  \n",
       "16  DELL Vostro 3000 Series - 11th Gen Intel Core ...  \n",
       "17  Hp Pavilion Gaming -Core i5-10300H -1TB DRIVE ...  \n",
       "18  Shipped from abroad\\n10.1 inch Netbook PC - 1G...  \n",
       "19  Lenovo Thinkpad X201 - 12\" Intel Core i5 - 4G ...  \n",
       "20  Hp 15-da0021ds Intel Pentium Gold 5405U Laptop...  \n",
       "21  Hp Pavilion 15-er0125od x360 - Intel Core i5 -...  \n",
       "22  Hp Laptop 14 - cf2187nia 10th Generation Intel...  \n",
       "23  Shipped from abroad\\nN1001 Netbook PC - 10.1\" ...  \n",
       "24  Lenovo V14-IGL - Intel Celeron N4020- 1TB HDD ...  \n",
       "25  Hp Laptop 14 - cf2187nia 10th Generation Intel...  \n",
       "26  Hp Pavilion 15-eg0073cl 15.6″ Touchscreen Lapt...  \n",
       "27  Apple MacBook Pro M1- 256GB-HDD-8GB-RAM-13.3-S...  \n",
       "28  Hp 250 G7 - 15.6\" - Intel Celeron N4000 - 1TB ...  \n",
       "29  Hp 250 G8 Notebook Laptop, Intel Core i5, 1TB ...  \n",
       "30  Hp 250 G7 - 15.6\" - Intel Core i5 - 1TB HDD - ...  \n",
       "31  Lenovo V15 Intel Core i3 - 10th Generation 15....  \n",
       "32  Hp ProBook 650 G1 - 15.6 Inches - Intel Core i...  \n",
       "33  Shipped from abroad\\nFoldable Non-slip Laptop ...  \n",
       "34  Shipped from abroad\\n10.1 inch Netbook PC -1GB...  \n",
       "35  Hp 15-DY1091WM Laptop – Core™ i3 1.20GHz – 10t...  \n",
       "36  Hp Pavilion 14-DQ1043CL - Intel Core i3-1005G1...  \n",
       "37  Hp 15.6 Pavilion - i7 8th Gen - Backlit Keyboa...  \n",
       "38  Hp 840 G7 Elitebook - 14\"- i5-10310U - 10th Ge...  \n",
       "39  Lenovo Ideapad S145-15IGM (81MX) - Intel Celer...  "
      ]
     },
     "execution_count": 138,
     "metadata": {},
     "output_type": "execute_result"
    }
   ],
   "source": [
    "df"
   ]
  },
  {
   "cell_type": "code",
   "execution_count": 166,
   "id": "e19461c3",
   "metadata": {},
   "outputs": [],
   "source": [
    "df.to_csv(\"3_assignment.csv\")"
   ]
  },
  {
   "cell_type": "code",
   "execution_count": null,
   "id": "1e09b799",
   "metadata": {},
   "outputs": [],
   "source": []
  }
 ],
 "metadata": {
  "kernelspec": {
   "display_name": "Python 3 (ipykernel)",
   "language": "python",
   "name": "python3"
  },
  "language_info": {
   "codemirror_mode": {
    "name": "ipython",
    "version": 3
   },
   "file_extension": ".py",
   "mimetype": "text/x-python",
   "name": "python",
   "nbconvert_exporter": "python",
   "pygments_lexer": "ipython3",
   "version": "3.9.7"
  }
 },
 "nbformat": 4,
 "nbformat_minor": 5
}
